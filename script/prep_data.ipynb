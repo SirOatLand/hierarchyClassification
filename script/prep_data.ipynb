{
 "cells": [
  {
   "cell_type": "code",
   "execution_count": 1,
   "metadata": {},
   "outputs": [],
   "source": [
    "import pandas as pd\n",
    "from rdflib import Graph\n",
    "from itertools import combinations"
   ]
  },
  {
   "cell_type": "code",
   "execution_count": null,
   "metadata": {},
   "outputs": [],
   "source": [
    "def getOntology_pairs(path_to_ont):\n",
    "    g = Graph()\n",
    "    g.parse(path_to_ont, format=\"ttl\")\n",
    "\n",
    "    query = f\"\"\"\n",
    "    PREFIX rdf: <http://www.w3.org/1999/02/22-rdf-syntax-ns#>\n",
    "    PREFIX rdfs: <http://www.w3.org/2000/01/rdf-schema#>\n",
    "    SELECT DISTINCT ?Class ?Subclass ?sbLabel ?clsLabel\n",
    "    WHERE {{\n",
    "        ?Subclass rdfs:subClassOf ?Class .\n",
    "            ?Class rdfs:label ?clsLabel .\n",
    "            ?Subclass rdfs:label ?sbLabel .\n",
    "            FILTER (!isBlank(?Class)) \n",
    "    }}\n",
    "\n",
    "    \"\"\"\n",
    "\n",
    "    qres = g.query(query)\n",
    "\n",
    "    df = pd.DataFrame(qres.bindings)\n",
    "    df.columns = df.columns.str.replace(' ', '')\n",
    "    df = df[['clsLabel', 'sbLabel']].copy()\n",
    "    \n",
    "    return df"
   ]
  },
  {
   "cell_type": "code",
   "execution_count": null,
   "metadata": {},
   "outputs": [],
   "source": [
    "# label = 0, meaning for data (A,B) A is NOT_DIRECTLY_RELATED to B.\n",
    "def create_negativeDF(data_df, superclass_df, subclass_df):\n",
    "    negative_df = data_df.copy()\n",
    "    negative_df['clsLabel'] = negative_df['clsLabel'].values[::-1] \n",
    "\n",
    "    negative_df[~negative_df.isin(superclass_df)].dropna()\n",
    "    negative_df[~negative_df.isin(subclass_df)].dropna()\n",
    "\n",
    "    negative_df = negative_df.rename(columns={'clsLabel' : 'classA', 'sbLabel' : 'classB'})\n",
    "    negative_df[\"label\"] = 0\n",
    "    return negative_df\n",
    "\n",
    "# label = 1, meaning for data (A,B) A is SUPERCLASS of B.\n",
    "def create_superclassDF(data_df):\n",
    "    superclass_df = data_df.copy().rename(columns={'clsLabel' : 'classA', 'sbLabel' : 'classB'})\n",
    "    superclass_df[\"label\"] = 1\n",
    "    return superclass_df\n",
    "\n",
    "# label = 2, meaning for data (A,B) A is SUBCLASS of B.\n",
    "def create_subclassDF(data_df):\n",
    "    subclass_df = data_df.copy().rename(columns={'clsLabel' : 'classB', 'sbLabel' : 'classA'})\n",
    "    subclass_df[\"label\"] = 2\n",
    "    return subclass_df"
   ]
  },
  {
   "cell_type": "code",
   "execution_count": null,
   "metadata": {},
   "outputs": [],
   "source": [
    "def create_012DF(data_df):\n",
    "    subclass_df = create_subclassDF(data_df)\n",
    "    superclass_df = create_superclassDF(data_df)\n",
    "    negative_df = create_negativeDF(data_df, superclass_df, subclass_df)\n",
    "    processed_df = pd.concat([negative_df, superclass_df, subclass_df], axis=0)\n",
    "    \n",
    "    return processed_df"
   ]
  },
  {
   "cell_type": "code",
   "execution_count": null,
   "metadata": {},
   "outputs": [],
   "source": [
    "def getOntology_subclasses(path_to_ont):\n",
    "  g = Graph()\n",
    "  g.parse(path_to_ont, format=\"ttl\")\n",
    "\n",
    "  query = f\"\"\"\n",
    "  SELECT ?clsLabel (GROUP_CONCAT(?sbLabel; separator=\"|\") AS ?sbLabel)\n",
    "  WHERE {{\n",
    "      ?subclass rdfs:subClassOf ?superclass .\n",
    "      \n",
    "      ?subclass rdfs:label ?sbLabel .\n",
    "      ?superclass rdfs:label ?clsLabel . \n",
    "  }}\n",
    "  GROUP BY ?clsLabel\n",
    "  HAVING (COUNT(?subclass) > 1)  # Only show superclasses with multiple subclasses\n",
    "\n",
    "  \"\"\"\n",
    "\n",
    "  qres = g.query(query)\n",
    "\n",
    "  df = pd.DataFrame(qres.bindings)\n",
    "  df.columns = df.columns.str.replace(' ', '')\n",
    "  df = df[['clsLabel', 'sbLabel']].copy()\n",
    "  \n",
    "  return df"
   ]
  },
  {
   "cell_type": "code",
   "execution_count": null,
   "metadata": {},
   "outputs": [],
   "source": [
    "def generate_same_combinations(row):\n",
    "    elements = row.split(\"|\")  \n",
    "    return [pair for pair in combinations(elements, 2)]  "
   ]
  },
  {
   "cell_type": "code",
   "execution_count": 1,
   "metadata": {},
   "outputs": [],
   "source": [
    "# label = 3, meaning for data (A,B) A is FROM_THE_SAME_SUPERCLASS as B.\n",
    "def create_sameDF(data_df_label3, df_length):\n",
    "    df = data_df_label3[\"sbLabel\"].apply(generate_same_combinations)\n",
    "    df = df.to_frame(name=\"combinations\").explode(\"combinations\")\n",
    "    df[[\"classA\", \"classB\"]] = pd.DataFrame(df[\"combinations\"].tolist(), index=df.index)\n",
    "    df = df.drop(columns=[\"combinations\"])\n",
    "    df[\"label\"] = 3\n",
    "\n",
    "    df = df.sample(frac=1).reset_index(drop=True)\n",
    "    df = df[:int(df_length/2)]\n",
    "    df_reversed  = df.rename(columns={\"classA\": \"classB\", \"classB\": \"classA\"})\n",
    "\n",
    "    sameclass_df = pd.concat([df, df_reversed], ignore_index=True)\n",
    "    return sameclass_df"
   ]
  },
  {
   "cell_type": "code",
   "execution_count": 2,
   "metadata": {},
   "outputs": [],
   "source": [
    "def create_trainingDF(path_to_ont):\n",
    "    data_df = getOntology_pairs(path_to_ont)\n",
    "    data_df_label3 = getOntology_subclasses(path_to_ont)\n",
    "\n",
    "    superclass_df = create_012DF(data_df)\n",
    "    sameclass_df = create_sameDF(data_df_label3, int(len(superclass_df.index)/3)) # divide by 3 to match length of each labels\n",
    "\n",
    "    training_df = pd.concat([superclass_df, sameclass_df], axis=0)\n",
    "    training_df = training_df.sample(frac=1).reset_index(drop=True)\n",
    "\n",
    "    return training_df"
   ]
  },
  {
   "cell_type": "code",
   "execution_count": null,
   "metadata": {},
   "outputs": [],
   "source": []
  }
 ],
 "metadata": {
  "kernelspec": {
   "display_name": "bert",
   "language": "python",
   "name": "python3"
  },
  "language_info": {
   "codemirror_mode": {
    "name": "ipython",
    "version": 3
   },
   "file_extension": ".py",
   "mimetype": "text/x-python",
   "name": "python",
   "nbconvert_exporter": "python",
   "pygments_lexer": "ipython3",
   "version": "3.12.1"
  }
 },
 "nbformat": 4,
 "nbformat_minor": 2
}

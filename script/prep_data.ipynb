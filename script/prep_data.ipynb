{
 "cells": [
  {
   "cell_type": "code",
   "execution_count": null,
   "metadata": {},
   "outputs": [],
   "source": [
    "import pandas as pd\n",
    "from rdflib import Graph"
   ]
  },
  {
   "cell_type": "code",
   "execution_count": null,
   "metadata": {},
   "outputs": [],
   "source": [
    "def getOntologyData(path_to_ont):\n",
    "    g = Graph()\n",
    "    g.parse(path_to_ont, format=\"ttl\")\n",
    "\n",
    "    query = f\"\"\"\n",
    "    PREFIX rdf: <http://www.w3.org/1999/02/22-rdf-syntax-ns#>\n",
    "    PREFIX rdfs: <http://www.w3.org/2000/01/rdf-schema#>\n",
    "    SELECT DISTINCT ?Class ?Subclass ?sbLabel ?clsLabel\n",
    "    WHERE {{\n",
    "        ?Subclass rdfs:subClassOf ?Class .\n",
    "            ?Class rdfs:label ?clsLabel .\n",
    "            ?Subclass rdfs:label ?sbLabel .\n",
    "            FILTER (!isBlank(?Class)) \n",
    "    }}\n",
    "\n",
    "    \"\"\"\n",
    "\n",
    "    qres = g.query(query)\n",
    "\n",
    "    df = pd.DataFrame(qres.bindings)\n",
    "    df.columns = df.columns.str.replace(' ', '')\n",
    "    df = df[['clsLabel', 'sbLabel']].copy()\n",
    "    \n",
    "    return df"
   ]
  },
  {
   "cell_type": "code",
   "execution_count": null,
   "metadata": {},
   "outputs": [],
   "source": [
    "# label = 0, meaning for data (A,B) A is NOT_DIRECTLY_RELATED to B.\n",
    "def create_negativeDF(data_df, superclass_df, subclass_df):\n",
    "    negative_df = data_df.copy()\n",
    "    negative_df['clsLabel'] = negative_df['clsLabel'].values[::-1] \n",
    "\n",
    "    negative_df[~negative_df.isin(superclass_df)].dropna()\n",
    "    negative_df[~negative_df.isin(subclass_df)].dropna()\n",
    "\n",
    "    negative_df = negative_df.rename(columns={'clsLabel' : 'classA', 'sbLabel' : 'classB'})\n",
    "    negative_df[\"label\"] = 0\n",
    "    return negative_df"
   ]
  },
  {
   "cell_type": "code",
   "execution_count": null,
   "metadata": {},
   "outputs": [],
   "source": [
    "# label = 1, meaning for data (A,B) A is SUPERCLASS of B.\n",
    "def create_superclassDF(data_df):\n",
    "    superclass_df = data_df.copy().rename(columns={'clsLabel' : 'classA', 'sbLabel' : 'classB'})\n",
    "    superclass_df[\"label\"] = 1\n",
    "    return superclass_df"
   ]
  },
  {
   "cell_type": "code",
   "execution_count": null,
   "metadata": {},
   "outputs": [],
   "source": [
    "# label = 2, meaning for data (A,B) A is SUBCLASS of B.\n",
    "def create_subclassDF(data_df):\n",
    "    subclass_df = data_df.copy().rename(columns={'clsLabel' : 'classB', 'sbLabel' : 'classA'})\n",
    "    subclass_df[\"label\"] = 2\n",
    "    return subclass_df"
   ]
  },
  {
   "cell_type": "code",
   "execution_count": null,
   "metadata": {},
   "outputs": [],
   "source": [
    "def create_processedDF(data_df):\n",
    "    subclass_df = create_subclassDF(data_df)\n",
    "    superclass_df = create_superclassDF(data_df)\n",
    "    negative_df = create_negativeDF(data_df, superclass_df, subclass_df)\n",
    "    processed_df = pd.concat([negative_df, superclass_df, subclass_df], axis=0)\n",
    "\n",
    "    processed_df = processed_df.sample(frac=1).reset_index(drop=True)\n",
    "    return processed_df"
   ]
  }
 ],
 "metadata": {
  "kernelspec": {
   "display_name": "bert",
   "language": "python",
   "name": "python3"
  },
  "language_info": {
   "codemirror_mode": {
    "name": "ipython",
    "version": 3
   },
   "file_extension": ".py",
   "mimetype": "text/x-python",
   "name": "python",
   "nbconvert_exporter": "python",
   "pygments_lexer": "ipython3",
   "version": "3.12.1"
  }
 },
 "nbformat": 4,
 "nbformat_minor": 2
}
